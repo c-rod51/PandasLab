{
 "cells": [
  {
   "cell_type": "markdown",
   "id": "7574444a",
   "metadata": {},
   "source": [
    "# ETL Process for PandasLab Group 6 -- Climate Change\n",
    "\n",
    "Since the 1958 the National Oceanic and Atmospheric Administration has been measuring CO${_2}$ levels at their Mauna Loa Observatory in Hawaii. It is the longest record of direct measurements of CO${_2}$ in the atmoshere. The data has shown a clear trend in increased atmospheric CO${_2}$ since then.\n",
    "\n",
    "While we are aware that there are natural sources of CO${_2}$, our group would like to investigate if this overall rising trend is correlated with CO${_2}$ output from various contries collectively and individually.\n",
    "\n",
    "The cleaning below will be done on [Nitroux Oxide emission data](https://data.worldbank.org/indicator/EN.ATM.NOXE.KT.CE?end=2015&locations=CN&start=1990&view=chart), [Methane emission data](), and [CO${_2}$ emission data](https://data.worldbank.org/indicator/EN.ATM.CO2E.KT?view=chart) accessed on July 13, 2022.\n",
    "\n",
    "## Extract\n",
    "The data can be extracted by simply clicking the CSV link in the Download section of the webpage for the appropriate data source linked above.\n",
    "\n",
    "### Import the data to `pandas` DataFrame\n",
    "You'll want to set the path to your files appropriate in the cell below"
   ]
  },
  {
   "cell_type": "code",
   "execution_count": 1,
   "id": "ba35bb41",
   "metadata": {},
   "outputs": [],
   "source": [
    "import pandas as pd\n",
    "#Replace paths with your appropriate path; r is for rawstring in case you have subfolders in your path\n",
    "N2O_data_path = r'N2O_data.csv'\n",
    "Methane_data_path = r'Methane_data.csv'\n",
    "CO2_data_path = r'CO2_data.csv'"
   ]
  },
  {
   "cell_type": "markdown",
   "id": "dd6920d5",
   "metadata": {},
   "source": [
    "## Nitrous Oxide\n",
    "We'll begin with the Nitrous Oxide data (N${_2}$O) and importing the raw data from the CSV file"
   ]
  },
  {
   "cell_type": "code",
   "execution_count": 2,
   "id": "1d6d9a5e",
   "metadata": {},
   "outputs": [
    {
     "ename": "FileNotFoundError",
     "evalue": "[Errno 2] No such file or directory: 'N2O_data.csv'",
     "output_type": "error",
     "traceback": [
      "\u001b[1;31m---------------------------------------------------------------------------\u001b[0m",
      "\u001b[1;31mFileNotFoundError\u001b[0m                         Traceback (most recent call last)",
      "Input \u001b[1;32mIn [2]\u001b[0m, in \u001b[0;36m<cell line: 1>\u001b[1;34m()\u001b[0m\n\u001b[1;32m----> 1\u001b[0m N2O_raw_data \u001b[38;5;241m=\u001b[39m \u001b[43mpd\u001b[49m\u001b[38;5;241;43m.\u001b[39;49m\u001b[43mread_csv\u001b[49m\u001b[43m(\u001b[49m\u001b[43mN2O_data_path\u001b[49m\u001b[43m,\u001b[49m\u001b[43m \u001b[49m\u001b[43mheader\u001b[49m\u001b[43m \u001b[49m\u001b[38;5;241;43m=\u001b[39;49m\u001b[43m \u001b[49m\u001b[38;5;241;43m2\u001b[39;49m\u001b[43m)\u001b[49m\n",
      "File \u001b[1;32m~\\anaconda3\\lib\\site-packages\\pandas\\util\\_decorators.py:311\u001b[0m, in \u001b[0;36mdeprecate_nonkeyword_arguments.<locals>.decorate.<locals>.wrapper\u001b[1;34m(*args, **kwargs)\u001b[0m\n\u001b[0;32m    305\u001b[0m \u001b[38;5;28;01mif\u001b[39;00m \u001b[38;5;28mlen\u001b[39m(args) \u001b[38;5;241m>\u001b[39m num_allow_args:\n\u001b[0;32m    306\u001b[0m     warnings\u001b[38;5;241m.\u001b[39mwarn(\n\u001b[0;32m    307\u001b[0m         msg\u001b[38;5;241m.\u001b[39mformat(arguments\u001b[38;5;241m=\u001b[39marguments),\n\u001b[0;32m    308\u001b[0m         \u001b[38;5;167;01mFutureWarning\u001b[39;00m,\n\u001b[0;32m    309\u001b[0m         stacklevel\u001b[38;5;241m=\u001b[39mstacklevel,\n\u001b[0;32m    310\u001b[0m     )\n\u001b[1;32m--> 311\u001b[0m \u001b[38;5;28;01mreturn\u001b[39;00m func(\u001b[38;5;241m*\u001b[39margs, \u001b[38;5;241m*\u001b[39m\u001b[38;5;241m*\u001b[39mkwargs)\n",
      "File \u001b[1;32m~\\anaconda3\\lib\\site-packages\\pandas\\io\\parsers\\readers.py:680\u001b[0m, in \u001b[0;36mread_csv\u001b[1;34m(filepath_or_buffer, sep, delimiter, header, names, index_col, usecols, squeeze, prefix, mangle_dupe_cols, dtype, engine, converters, true_values, false_values, skipinitialspace, skiprows, skipfooter, nrows, na_values, keep_default_na, na_filter, verbose, skip_blank_lines, parse_dates, infer_datetime_format, keep_date_col, date_parser, dayfirst, cache_dates, iterator, chunksize, compression, thousands, decimal, lineterminator, quotechar, quoting, doublequote, escapechar, comment, encoding, encoding_errors, dialect, error_bad_lines, warn_bad_lines, on_bad_lines, delim_whitespace, low_memory, memory_map, float_precision, storage_options)\u001b[0m\n\u001b[0;32m    665\u001b[0m kwds_defaults \u001b[38;5;241m=\u001b[39m _refine_defaults_read(\n\u001b[0;32m    666\u001b[0m     dialect,\n\u001b[0;32m    667\u001b[0m     delimiter,\n\u001b[1;32m   (...)\u001b[0m\n\u001b[0;32m    676\u001b[0m     defaults\u001b[38;5;241m=\u001b[39m{\u001b[38;5;124m\"\u001b[39m\u001b[38;5;124mdelimiter\u001b[39m\u001b[38;5;124m\"\u001b[39m: \u001b[38;5;124m\"\u001b[39m\u001b[38;5;124m,\u001b[39m\u001b[38;5;124m\"\u001b[39m},\n\u001b[0;32m    677\u001b[0m )\n\u001b[0;32m    678\u001b[0m kwds\u001b[38;5;241m.\u001b[39mupdate(kwds_defaults)\n\u001b[1;32m--> 680\u001b[0m \u001b[38;5;28;01mreturn\u001b[39;00m \u001b[43m_read\u001b[49m\u001b[43m(\u001b[49m\u001b[43mfilepath_or_buffer\u001b[49m\u001b[43m,\u001b[49m\u001b[43m \u001b[49m\u001b[43mkwds\u001b[49m\u001b[43m)\u001b[49m\n",
      "File \u001b[1;32m~\\anaconda3\\lib\\site-packages\\pandas\\io\\parsers\\readers.py:575\u001b[0m, in \u001b[0;36m_read\u001b[1;34m(filepath_or_buffer, kwds)\u001b[0m\n\u001b[0;32m    572\u001b[0m _validate_names(kwds\u001b[38;5;241m.\u001b[39mget(\u001b[38;5;124m\"\u001b[39m\u001b[38;5;124mnames\u001b[39m\u001b[38;5;124m\"\u001b[39m, \u001b[38;5;28;01mNone\u001b[39;00m))\n\u001b[0;32m    574\u001b[0m \u001b[38;5;66;03m# Create the parser.\u001b[39;00m\n\u001b[1;32m--> 575\u001b[0m parser \u001b[38;5;241m=\u001b[39m TextFileReader(filepath_or_buffer, \u001b[38;5;241m*\u001b[39m\u001b[38;5;241m*\u001b[39mkwds)\n\u001b[0;32m    577\u001b[0m \u001b[38;5;28;01mif\u001b[39;00m chunksize \u001b[38;5;129;01mor\u001b[39;00m iterator:\n\u001b[0;32m    578\u001b[0m     \u001b[38;5;28;01mreturn\u001b[39;00m parser\n",
      "File \u001b[1;32m~\\anaconda3\\lib\\site-packages\\pandas\\io\\parsers\\readers.py:933\u001b[0m, in \u001b[0;36mTextFileReader.__init__\u001b[1;34m(self, f, engine, **kwds)\u001b[0m\n\u001b[0;32m    930\u001b[0m     \u001b[38;5;28mself\u001b[39m\u001b[38;5;241m.\u001b[39moptions[\u001b[38;5;124m\"\u001b[39m\u001b[38;5;124mhas_index_names\u001b[39m\u001b[38;5;124m\"\u001b[39m] \u001b[38;5;241m=\u001b[39m kwds[\u001b[38;5;124m\"\u001b[39m\u001b[38;5;124mhas_index_names\u001b[39m\u001b[38;5;124m\"\u001b[39m]\n\u001b[0;32m    932\u001b[0m \u001b[38;5;28mself\u001b[39m\u001b[38;5;241m.\u001b[39mhandles: IOHandles \u001b[38;5;241m|\u001b[39m \u001b[38;5;28;01mNone\u001b[39;00m \u001b[38;5;241m=\u001b[39m \u001b[38;5;28;01mNone\u001b[39;00m\n\u001b[1;32m--> 933\u001b[0m \u001b[38;5;28mself\u001b[39m\u001b[38;5;241m.\u001b[39m_engine \u001b[38;5;241m=\u001b[39m \u001b[38;5;28;43mself\u001b[39;49m\u001b[38;5;241;43m.\u001b[39;49m\u001b[43m_make_engine\u001b[49m\u001b[43m(\u001b[49m\u001b[43mf\u001b[49m\u001b[43m,\u001b[49m\u001b[43m \u001b[49m\u001b[38;5;28;43mself\u001b[39;49m\u001b[38;5;241;43m.\u001b[39;49m\u001b[43mengine\u001b[49m\u001b[43m)\u001b[49m\n",
      "File \u001b[1;32m~\\anaconda3\\lib\\site-packages\\pandas\\io\\parsers\\readers.py:1217\u001b[0m, in \u001b[0;36mTextFileReader._make_engine\u001b[1;34m(self, f, engine)\u001b[0m\n\u001b[0;32m   1213\u001b[0m     mode \u001b[38;5;241m=\u001b[39m \u001b[38;5;124m\"\u001b[39m\u001b[38;5;124mrb\u001b[39m\u001b[38;5;124m\"\u001b[39m\n\u001b[0;32m   1214\u001b[0m \u001b[38;5;66;03m# error: No overload variant of \"get_handle\" matches argument types\u001b[39;00m\n\u001b[0;32m   1215\u001b[0m \u001b[38;5;66;03m# \"Union[str, PathLike[str], ReadCsvBuffer[bytes], ReadCsvBuffer[str]]\"\u001b[39;00m\n\u001b[0;32m   1216\u001b[0m \u001b[38;5;66;03m# , \"str\", \"bool\", \"Any\", \"Any\", \"Any\", \"Any\", \"Any\"\u001b[39;00m\n\u001b[1;32m-> 1217\u001b[0m \u001b[38;5;28mself\u001b[39m\u001b[38;5;241m.\u001b[39mhandles \u001b[38;5;241m=\u001b[39m \u001b[43mget_handle\u001b[49m\u001b[43m(\u001b[49m\u001b[43m  \u001b[49m\u001b[38;5;66;43;03m# type: ignore[call-overload]\u001b[39;49;00m\n\u001b[0;32m   1218\u001b[0m \u001b[43m    \u001b[49m\u001b[43mf\u001b[49m\u001b[43m,\u001b[49m\n\u001b[0;32m   1219\u001b[0m \u001b[43m    \u001b[49m\u001b[43mmode\u001b[49m\u001b[43m,\u001b[49m\n\u001b[0;32m   1220\u001b[0m \u001b[43m    \u001b[49m\u001b[43mencoding\u001b[49m\u001b[38;5;241;43m=\u001b[39;49m\u001b[38;5;28;43mself\u001b[39;49m\u001b[38;5;241;43m.\u001b[39;49m\u001b[43moptions\u001b[49m\u001b[38;5;241;43m.\u001b[39;49m\u001b[43mget\u001b[49m\u001b[43m(\u001b[49m\u001b[38;5;124;43m\"\u001b[39;49m\u001b[38;5;124;43mencoding\u001b[39;49m\u001b[38;5;124;43m\"\u001b[39;49m\u001b[43m,\u001b[49m\u001b[43m \u001b[49m\u001b[38;5;28;43;01mNone\u001b[39;49;00m\u001b[43m)\u001b[49m\u001b[43m,\u001b[49m\n\u001b[0;32m   1221\u001b[0m \u001b[43m    \u001b[49m\u001b[43mcompression\u001b[49m\u001b[38;5;241;43m=\u001b[39;49m\u001b[38;5;28;43mself\u001b[39;49m\u001b[38;5;241;43m.\u001b[39;49m\u001b[43moptions\u001b[49m\u001b[38;5;241;43m.\u001b[39;49m\u001b[43mget\u001b[49m\u001b[43m(\u001b[49m\u001b[38;5;124;43m\"\u001b[39;49m\u001b[38;5;124;43mcompression\u001b[39;49m\u001b[38;5;124;43m\"\u001b[39;49m\u001b[43m,\u001b[49m\u001b[43m \u001b[49m\u001b[38;5;28;43;01mNone\u001b[39;49;00m\u001b[43m)\u001b[49m\u001b[43m,\u001b[49m\n\u001b[0;32m   1222\u001b[0m \u001b[43m    \u001b[49m\u001b[43mmemory_map\u001b[49m\u001b[38;5;241;43m=\u001b[39;49m\u001b[38;5;28;43mself\u001b[39;49m\u001b[38;5;241;43m.\u001b[39;49m\u001b[43moptions\u001b[49m\u001b[38;5;241;43m.\u001b[39;49m\u001b[43mget\u001b[49m\u001b[43m(\u001b[49m\u001b[38;5;124;43m\"\u001b[39;49m\u001b[38;5;124;43mmemory_map\u001b[39;49m\u001b[38;5;124;43m\"\u001b[39;49m\u001b[43m,\u001b[49m\u001b[43m \u001b[49m\u001b[38;5;28;43;01mFalse\u001b[39;49;00m\u001b[43m)\u001b[49m\u001b[43m,\u001b[49m\n\u001b[0;32m   1223\u001b[0m \u001b[43m    \u001b[49m\u001b[43mis_text\u001b[49m\u001b[38;5;241;43m=\u001b[39;49m\u001b[43mis_text\u001b[49m\u001b[43m,\u001b[49m\n\u001b[0;32m   1224\u001b[0m \u001b[43m    \u001b[49m\u001b[43merrors\u001b[49m\u001b[38;5;241;43m=\u001b[39;49m\u001b[38;5;28;43mself\u001b[39;49m\u001b[38;5;241;43m.\u001b[39;49m\u001b[43moptions\u001b[49m\u001b[38;5;241;43m.\u001b[39;49m\u001b[43mget\u001b[49m\u001b[43m(\u001b[49m\u001b[38;5;124;43m\"\u001b[39;49m\u001b[38;5;124;43mencoding_errors\u001b[39;49m\u001b[38;5;124;43m\"\u001b[39;49m\u001b[43m,\u001b[49m\u001b[43m \u001b[49m\u001b[38;5;124;43m\"\u001b[39;49m\u001b[38;5;124;43mstrict\u001b[39;49m\u001b[38;5;124;43m\"\u001b[39;49m\u001b[43m)\u001b[49m\u001b[43m,\u001b[49m\n\u001b[0;32m   1225\u001b[0m \u001b[43m    \u001b[49m\u001b[43mstorage_options\u001b[49m\u001b[38;5;241;43m=\u001b[39;49m\u001b[38;5;28;43mself\u001b[39;49m\u001b[38;5;241;43m.\u001b[39;49m\u001b[43moptions\u001b[49m\u001b[38;5;241;43m.\u001b[39;49m\u001b[43mget\u001b[49m\u001b[43m(\u001b[49m\u001b[38;5;124;43m\"\u001b[39;49m\u001b[38;5;124;43mstorage_options\u001b[39;49m\u001b[38;5;124;43m\"\u001b[39;49m\u001b[43m,\u001b[49m\u001b[43m \u001b[49m\u001b[38;5;28;43;01mNone\u001b[39;49;00m\u001b[43m)\u001b[49m\u001b[43m,\u001b[49m\n\u001b[0;32m   1226\u001b[0m \u001b[43m\u001b[49m\u001b[43m)\u001b[49m\n\u001b[0;32m   1227\u001b[0m \u001b[38;5;28;01massert\u001b[39;00m \u001b[38;5;28mself\u001b[39m\u001b[38;5;241m.\u001b[39mhandles \u001b[38;5;129;01mis\u001b[39;00m \u001b[38;5;129;01mnot\u001b[39;00m \u001b[38;5;28;01mNone\u001b[39;00m\n\u001b[0;32m   1228\u001b[0m f \u001b[38;5;241m=\u001b[39m \u001b[38;5;28mself\u001b[39m\u001b[38;5;241m.\u001b[39mhandles\u001b[38;5;241m.\u001b[39mhandle\n",
      "File \u001b[1;32m~\\anaconda3\\lib\\site-packages\\pandas\\io\\common.py:789\u001b[0m, in \u001b[0;36mget_handle\u001b[1;34m(path_or_buf, mode, encoding, compression, memory_map, is_text, errors, storage_options)\u001b[0m\n\u001b[0;32m    784\u001b[0m \u001b[38;5;28;01melif\u001b[39;00m \u001b[38;5;28misinstance\u001b[39m(handle, \u001b[38;5;28mstr\u001b[39m):\n\u001b[0;32m    785\u001b[0m     \u001b[38;5;66;03m# Check whether the filename is to be opened in binary mode.\u001b[39;00m\n\u001b[0;32m    786\u001b[0m     \u001b[38;5;66;03m# Binary mode does not support 'encoding' and 'newline'.\u001b[39;00m\n\u001b[0;32m    787\u001b[0m     \u001b[38;5;28;01mif\u001b[39;00m ioargs\u001b[38;5;241m.\u001b[39mencoding \u001b[38;5;129;01mand\u001b[39;00m \u001b[38;5;124m\"\u001b[39m\u001b[38;5;124mb\u001b[39m\u001b[38;5;124m\"\u001b[39m \u001b[38;5;129;01mnot\u001b[39;00m \u001b[38;5;129;01min\u001b[39;00m ioargs\u001b[38;5;241m.\u001b[39mmode:\n\u001b[0;32m    788\u001b[0m         \u001b[38;5;66;03m# Encoding\u001b[39;00m\n\u001b[1;32m--> 789\u001b[0m         handle \u001b[38;5;241m=\u001b[39m \u001b[38;5;28;43mopen\u001b[39;49m\u001b[43m(\u001b[49m\n\u001b[0;32m    790\u001b[0m \u001b[43m            \u001b[49m\u001b[43mhandle\u001b[49m\u001b[43m,\u001b[49m\n\u001b[0;32m    791\u001b[0m \u001b[43m            \u001b[49m\u001b[43mioargs\u001b[49m\u001b[38;5;241;43m.\u001b[39;49m\u001b[43mmode\u001b[49m\u001b[43m,\u001b[49m\n\u001b[0;32m    792\u001b[0m \u001b[43m            \u001b[49m\u001b[43mencoding\u001b[49m\u001b[38;5;241;43m=\u001b[39;49m\u001b[43mioargs\u001b[49m\u001b[38;5;241;43m.\u001b[39;49m\u001b[43mencoding\u001b[49m\u001b[43m,\u001b[49m\n\u001b[0;32m    793\u001b[0m \u001b[43m            \u001b[49m\u001b[43merrors\u001b[49m\u001b[38;5;241;43m=\u001b[39;49m\u001b[43merrors\u001b[49m\u001b[43m,\u001b[49m\n\u001b[0;32m    794\u001b[0m \u001b[43m            \u001b[49m\u001b[43mnewline\u001b[49m\u001b[38;5;241;43m=\u001b[39;49m\u001b[38;5;124;43m\"\u001b[39;49m\u001b[38;5;124;43m\"\u001b[39;49m\u001b[43m,\u001b[49m\n\u001b[0;32m    795\u001b[0m \u001b[43m        \u001b[49m\u001b[43m)\u001b[49m\n\u001b[0;32m    796\u001b[0m     \u001b[38;5;28;01melse\u001b[39;00m:\n\u001b[0;32m    797\u001b[0m         \u001b[38;5;66;03m# Binary mode\u001b[39;00m\n\u001b[0;32m    798\u001b[0m         handle \u001b[38;5;241m=\u001b[39m \u001b[38;5;28mopen\u001b[39m(handle, ioargs\u001b[38;5;241m.\u001b[39mmode)\n",
      "\u001b[1;31mFileNotFoundError\u001b[0m: [Errno 2] No such file or directory: 'N2O_data.csv'"
     ]
    }
   ],
   "source": [
    "N2O_raw_data = pd.read_csv(N2O_data_path, header = 2)"
   ]
  },
  {
   "cell_type": "code",
   "execution_count": null,
   "id": "df42ee41",
   "metadata": {},
   "outputs": [],
   "source": [
    "N2O_raw_data.info()"
   ]
  },
  {
   "cell_type": "markdown",
   "id": "6fcb5cd9",
   "metadata": {},
   "source": [
    "## Transform\n",
    "You may notice off the bat that the `indicator column` is not entirely useful.\n",
    "Let's remove the `indicator code` column with the following code:"
   ]
  },
  {
   "cell_type": "code",
   "execution_count": null,
   "id": "425d757a",
   "metadata": {},
   "outputs": [],
   "source": [
    "N2O_raw_data.drop(columns = ['Indicator Code'], inplace=True)\n",
    "N2O_raw_data"
   ]
  },
  {
   "cell_type": "markdown",
   "id": "8dd78237",
   "metadata": {},
   "source": [
    "If you peaked at the GUI of the data sources, you may have noticed that the data does not begin until 1990. You'll notice in the DataFrame above, we see NaN for years 1960 - ...\n",
    "\n",
    "Let's drop columns where all entries are NaN with the following code:"
   ]
  },
  {
   "cell_type": "code",
   "execution_count": null,
   "id": "c0f86dd3",
   "metadata": {},
   "outputs": [],
   "source": [
    "N2O_removed_NaN_columns = N2O_raw_data.dropna(axis='columns', how='all')\n",
    "N2O_removed_NaN_columns"
   ]
  },
  {
   "cell_type": "markdown",
   "id": "bd9674af",
   "metadata": {},
   "source": [
    "We now have 33 columns.\n",
    "\n",
    "You may have noticed that Kosovo (line 261) is missing many years of N2O data. Let's remove it from the dataframe and also remove any entries that have rows with less than 1/3 of the total timeline available. Since we have ~30 years worth, we can remove any rows that NaN in 10 of the years or more\n",
    "We'll do so with the following code:"
   ]
  },
  {
   "cell_type": "code",
   "execution_count": null,
   "id": "66193807",
   "metadata": {},
   "outputs": [],
   "source": [
    "N2O_removed_NaN_rowsNcolumns = N2O_removed_NaN_columns.dropna(axis='rows', thresh=10)\n",
    "N2O_removed_NaN_rowsNcolumns"
   ]
  },
  {
   "cell_type": "markdown",
   "id": "628895af",
   "metadata": {},
   "source": [
    "We now have 238 rows (i.e. 238 countries with N2O data for 20+ years)\n",
    "\n",
    "Let's look at some summary data:"
   ]
  },
  {
   "cell_type": "code",
   "execution_count": null,
   "id": "a85479c9",
   "metadata": {},
   "outputs": [],
   "source": [
    "N2O_removed_NaN_rowsNcolumns.describe()"
   ]
  },
  {
   "cell_type": "markdown",
   "id": "db59852b",
   "metadata": {},
   "source": [
    "Let's narrow down the range of years to 2010-2015\n"
   ]
  },
  {
   "cell_type": "code",
   "execution_count": null,
   "id": "f35aa526",
   "metadata": {},
   "outputs": [],
   "source": [
    "years = ['Country Name', '2010', '2011', '2012', '2013', '2014', '2015']\n",
    "N2O_cleaned = N2O_removed_NaN_rowsNcolumns[years]\n",
    "N2O_cleaned"
   ]
  },
  {
   "cell_type": "markdown",
   "id": "be0cf71f",
   "metadata": {},
   "source": [
    "## Methane\n",
    "Let's look at the Methane data and import the raw data from the CSV file"
   ]
  },
  {
   "cell_type": "code",
   "execution_count": null,
   "id": "51b9fbeb",
   "metadata": {},
   "outputs": [],
   "source": [
    "Methane_raw_data = pd.read_csv(Methane_data_path, header = 2)\n",
    "Methane_raw_data"
   ]
  },
  {
   "cell_type": "markdown",
   "id": "698150eb",
   "metadata": {},
   "source": [
    "## Transform\n",
    "You may notice off the bat that the `indicator column` is not entirely useful.\n",
    "Let's remove the `indicator code` column with the following code:"
   ]
  },
  {
   "cell_type": "code",
   "execution_count": null,
   "id": "3f6108a9",
   "metadata": {},
   "outputs": [],
   "source": [
    "Methane_raw_data.drop(columns = ['Indicator Code'], inplace=True)\n",
    "Methane_raw_data"
   ]
  },
  {
   "cell_type": "markdown",
   "id": "aff03376",
   "metadata": {},
   "source": [
    "If you peaked at the GUI of the data sources, you may have noticed that the data does not begin until 1990. You'll notice in the DataFrame above, we see NaN for years 1960 - ...\n",
    "\n",
    "Let's drop columns where all entries are NaN with the following code:"
   ]
  },
  {
   "cell_type": "code",
   "execution_count": null,
   "id": "f5391922",
   "metadata": {},
   "outputs": [],
   "source": [
    "Methane_removed_NaN_columns = Methane_raw_data.dropna(axis='columns', how='all')\n",
    "Methane_removed_NaN_columns"
   ]
  },
  {
   "cell_type": "markdown",
   "id": "bbf3df63",
   "metadata": {},
   "source": [
    "We now have 33 columns.\n",
    "\n",
    "You may have noticed that Kosovo (line 261) is missing many years of methane data. Let's remove it from the dataframe and also remove any entries that have rows with less than 1/3 of the total timeline available. Since we have ~30 years worth, we can remove any rows that NaN in 10 of the years or more\n",
    "We'll do so with the following code:"
   ]
  },
  {
   "cell_type": "code",
   "execution_count": null,
   "id": "87a59280",
   "metadata": {},
   "outputs": [],
   "source": [
    "Methane_removed_NaN_rowsNcolumns = Methane_removed_NaN_columns.dropna(axis='rows', thresh=10)\n",
    "Methane_removed_NaN_rowsNcolumns"
   ]
  },
  {
   "cell_type": "markdown",
   "id": "8be4d448",
   "metadata": {},
   "source": [
    "We now have 238 rows (i.e. 239 countries with Methane data for 20+ years)\n",
    "\n",
    "Let's narrow down the year range from 2010-2015"
   ]
  },
  {
   "cell_type": "code",
   "execution_count": null,
   "id": "8ff35f30",
   "metadata": {},
   "outputs": [],
   "source": [
    "Methane_cleaned = Methane_removed_NaN_rowsNcolumns[years]\n",
    "Methane_cleaned"
   ]
  },
  {
   "cell_type": "markdown",
   "id": "2ab9a63f",
   "metadata": {},
   "source": [
    "## Visualizations"
   ]
  },
  {
   "cell_type": "code",
   "execution_count": null,
   "id": "0fe79543",
   "metadata": {},
   "outputs": [],
   "source": [
    "import matplotlib.pyplot as plt\n",
    "%matplotlib inline"
   ]
  },
  {
   "cell_type": "code",
   "execution_count": null,
   "id": "33607739",
   "metadata": {},
   "outputs": [],
   "source": []
  }
 ],
 "metadata": {
  "kernelspec": {
   "display_name": "Python 3 (ipykernel)",
   "language": "python",
   "name": "python3"
  },
  "language_info": {
   "codemirror_mode": {
    "name": "ipython",
    "version": 3
   },
   "file_extension": ".py",
   "mimetype": "text/x-python",
   "name": "python",
   "nbconvert_exporter": "python",
   "pygments_lexer": "ipython3",
   "version": "3.9.12"
  }
 },
 "nbformat": 4,
 "nbformat_minor": 5
}
