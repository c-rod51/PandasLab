{
 "cells": [
  {
   "cell_type": "markdown",
   "metadata": {},
   "source": [
    "[GDP Data](https://data.worldbank.org/indicator/NY.GDP.MKTP.CD?view=chart)\n",
    "\n",
    "[GDP Growth Data](https://data.worldbank.org/indicator/NY.GDP.MKTP.KD.ZG?view=chart)\n",
    "\n",
    "1. Import pandas and read csv files"
   ]
  },
  {
   "cell_type": "code",
   "execution_count": 1,
   "metadata": {},
   "outputs": [],
   "source": [
    "import pandas as pd\n",
    "gdp_csv = pd.read_csv('API_NY.GDP.MKTP.CD_DS2_en_csv_v2_4251000.csv', skiprows = 4)\n",
    "growth_csv = pd.read_csv('API_NY.GDP.MKTP.KD.ZG_DS2_en_csv_v2_4251016.csv', skiprows = 4)"
   ]
  },
  {
   "cell_type": "markdown",
   "metadata": {},
   "source": [
    "2. For both DataFrames, create a new column for the average values from the 2010-2015 columns"
   ]
  },
  {
   "cell_type": "code",
   "execution_count": 2,
   "metadata": {},
   "outputs": [],
   "source": [
    "years = ['2010', '2011', '2012', '2013', '2014', '2015']\n",
    "\n",
    "gdp_csv['Average GDP'] = (gdp_csv[years].sum(axis=1))/6\n",
    "growth_csv['Average Growth'] = (growth_csv[years].sum(axis=1))/6"
   ]
  },
  {
   "cell_type": "markdown",
   "metadata": {},
   "source": [
    "3. Copy the following columns into new DataFrames"
   ]
  },
  {
   "cell_type": "code",
   "execution_count": 3,
   "metadata": {},
   "outputs": [],
   "source": [
    "gdp = gdp_csv[['Country Name','2010','2011','2012','2013','2014','2015','Average GDP']]\n",
    "growth = growth_csv[['Country Name','2010','2011','2012','2013','2014','2015','Average Growth']]"
   ]
  }
 ],
 "metadata": {
  "kernelspec": {
   "display_name": "Python 3 (ipykernel)",
   "language": "python",
   "name": "python3"
  },
  "language_info": {
   "codemirror_mode": {
    "name": "ipython",
    "version": 3
   },
   "file_extension": ".py",
   "mimetype": "text/x-python",
   "name": "python",
   "nbconvert_exporter": "python",
   "pygments_lexer": "ipython3",
   "version": "3.9.12"
  },
  "vscode": {
   "interpreter": {
    "hash": "96fffdd498598dc357c61a781eb2beb67838f6185ce225f0f99bb948831ae793"
   }
  }
 },
 "nbformat": 4,
 "nbformat_minor": 2
}
